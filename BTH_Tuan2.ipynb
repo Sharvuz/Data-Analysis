{
 "cells": [
  {
   "cell_type": "code",
   "execution_count": 37,
   "id": "b47408e0",
   "metadata": {},
   "outputs": [
    {
     "name": "stdout",
     "output_type": "stream",
     "text": [
      "1.26.4\n"
     ]
    }
   ],
   "source": [
    "#cau3\n",
    "import numpy as np\n",
    "print(np.__version__)"
   ]
  },
  {
   "cell_type": "code",
   "execution_count": 13,
   "id": "66d0d8d8",
   "metadata": {},
   "outputs": [
    {
     "data": {
      "text/plain": [
       "array([nan,  0.,  0.,  0.,  0.,  0.,  0.,  0.,  0.,  0.])"
      ]
     },
     "execution_count": 13,
     "metadata": {},
     "output_type": "execute_result"
    }
   ],
   "source": [
    "#Cau4\n",
    "np.empty(10)"
   ]
  },
  {
   "cell_type": "code",
   "execution_count": 36,
   "id": "782139c4",
   "metadata": {},
   "outputs": [
    {
     "name": "stdout",
     "output_type": "stream",
     "text": [
      "[26  7 19 27 12 29]\n"
     ]
    }
   ],
   "source": [
    "#Cau5\n",
    "arr = np.array([26, 7, 19, 27, 12, 29])\n",
    "\n",
    "print(arr)"
   ]
  },
  {
   "cell_type": "code",
   "execution_count": 30,
   "id": "d2c42561",
   "metadata": {},
   "outputs": [
    {
     "name": "stdout",
     "output_type": "stream",
     "text": [
      "[0.99062542 0.32128813 0.23820145 0.70873749 0.18399348 0.13102284\n",
      " 0.47362893 0.81448727 0.98112993 0.39264442]\n",
      "[4 6 6 7 4 8 4 5 7 7]\n",
      "gia tri pt5:  8\n",
      "so chieu:  1\n",
      "so phan tu:  10\n"
     ]
    }
   ],
   "source": [
    "#Cau5,6\n",
    "arr = np.random.randint(1, 9, size = 10)\n",
    "arr1 = np.random.random(10)\n",
    "print(arr1)\n",
    "print(arr)\n",
    "\n",
    "print(\"gia tri pt5: \", arr[5])\n",
    "\n",
    "print(\"so chieu: \", np.ndim(arr))\n",
    "print(\"so phan tu: \", np.size(arr))"
   ]
  },
  {
   "cell_type": "code",
   "execution_count": 35,
   "id": "1b36d620",
   "metadata": {},
   "outputs": [
    {
     "name": "stdout",
     "output_type": "stream",
     "text": [
      "[[0.18788718 0.32103289 0.28211549 0.48103197]\n",
      " [0.02155364 0.22198745 0.20314905 0.2027216 ]\n",
      " [0.55508541 0.67002835 0.68350576 0.13787423]]\n"
     ]
    }
   ],
   "source": [
    "#Cau7\n",
    "arr = np.random.random((3, 4))\n",
    "\n",
    "print(arr)"
   ]
  },
  {
   "cell_type": "code",
   "execution_count": 57,
   "id": "1fbcf9ba",
   "metadata": {},
   "outputs": [
    {
     "name": "stdout",
     "output_type": "stream",
     "text": [
      "[[ 5 10 21]\n",
      " [11 23 18]\n",
      " [22 19 35]\n",
      " [96 22 26]]\n",
      "so chieu:  2\n",
      "so dong, cot: (4, 3)\n",
      "[[23 18]\n",
      " [19 35]\n",
      " [22 26]]\n",
      "\n",
      "sau khi thay doi:\n",
      " [[ 5 10 21]\n",
      " [11 23 18]\n",
      " [22 19 35]\n",
      " [96 30 26]]\n"
     ]
    }
   ],
   "source": [
    "#Cau8\n",
    "arr = np.array([[5,10,21], [11,23,18], [22,19,35], [96,22,26]])\n",
    "print(arr)\n",
    "print(\"so chieu: \", np.ndim(arr))\n",
    "print(\"so dong, cot:\", np.shape(arr))\n",
    "\n",
    "arr2 = np.copy(arr)\n",
    "arr2 = arr[1:4, 1:3]\n",
    "print(arr2)\n",
    "\n",
    "arr[3,1] = 30\n",
    "print('\\nsau khi thay doi:\\n', arr)"
   ]
  },
  {
   "cell_type": "code",
   "execution_count": 65,
   "id": "672ce9bd",
   "metadata": {},
   "outputs": [
    {
     "name": "stdout",
     "output_type": "stream",
     "text": [
      "[11 17 11 15 17 16 14 10 13 10]\n",
      "[[11 17 11 15 17]\n",
      " [16 14 10 13 10]] \n",
      "so chieu:  2\n"
     ]
    }
   ],
   "source": [
    "#Cau9\n",
    "arr = np.random.randint(10, 20, size = 10)\n",
    "print(arr)\n",
    "\n",
    "arr2 = arr.reshape(2,5)\n",
    "print(arr2, \"\\nso chieu: \", np.ndim(arr2))"
   ]
  },
  {
   "cell_type": "code",
   "execution_count": 70,
   "id": "03d4ae5f",
   "metadata": {},
   "outputs": [
    {
     "name": "stdout",
     "output_type": "stream",
     "text": [
      "max:  99 min:  11\n",
      "\n",
      "sort:\n",
      " [11 32 46 62 87 99]\n",
      "Phan tu thu 4 la so le\n",
      "mean:  56.166666666666664\n",
      "median 54.0\n",
      "sum:  337\n",
      "Mang sau khi thay mean:  [99 46 56 62 11 32]\n",
      "Mang sau khi xoa 62:  [99 46 56 11 32]\n"
     ]
    }
   ],
   "source": [
    "#Cau10\n",
    "arr = np.array([99, 46, 87, 62, 11, 32])\n",
    "print(\"max: \", np.max(arr), \"min: \", np.min(arr))\n",
    "print(\"\\nsort:\\n\", np.sort(arr))\n",
    "\n",
    "count = 0\n",
    "if arr[4] % 2 == 0:\n",
    "    print(\"Phan tu thu 4 la so chan\")\n",
    "else:\n",
    "    print(\"Phan tu thu 4 la so le\")\n",
    "\n",
    "for i in arr:\n",
    "    if i % 2 == 0:\n",
    "        count += 1\n",
    "\n",
    "print(\"mean: \", np.mean(arr))\n",
    "print(\"median\", np.median(arr))\n",
    "print(\"sum: \", np.sum(arr))\n",
    "\n",
    "arr[arr == 87] = np.mean(arr)\n",
    "print(\"Mang sau khi thay mean: \", arr)\n",
    "\n",
    "np.delete(arr, )\n",
    "\n",
    "arr2 = arr[arr != 62]\n",
    "print(\"Mang sau khi xoa 62: \", arr2)"
   ]
  },
  {
   "cell_type": "code",
   "execution_count": 106,
   "id": "1283b591",
   "metadata": {},
   "outputs": [
    {
     "name": "stdout",
     "output_type": "stream",
     "text": [
      "[[11 23 18]\n",
      " [22 19 35]]\n",
      "32.333333333333336\n",
      "Thay doi mean:  [[32 10 21]\n",
      " [32 23 18]\n",
      " [32 19 35]]\n",
      "tong value arr3:  507\n",
      "\n",
      " [[96 22 26]\n",
      " [87 56 23]\n",
      " [-1 -1 -1]]\n",
      "chieu ma tran moi:  2\n",
      "new arr sau khi dua ve vector:\n",
      " [50 10 41 61 23 28 42 11 25]\n",
      "new arr sau khi them cuoi:  [50 10 41 61 23 28 42 11 25 45]\n",
      "new arr sau khi them dau:  [99 50 10 41 61 23 28 42 11 25 45]\n",
      "[[[32, 10, 21], [32, 23, 18], [32, 19, 35]], [[50, 10, 41], [61, 23, 28], [42, 11, 25]], [[96, 22, 26], [87, 56, 23], [-1, -1, -1]]]\n",
      "\n",
      " [[[32, 10, 21], [32, 23, 18], [32, 19, 35]], [[50, 10, 41], [61, 23, 28], [42, 11, 25]], [[96, 22, 26], [87, 56, 23], [-1, -1, -1]]]\n"
     ]
    }
   ],
   "source": [
    "#Cau11\n",
    "arr1 = np.array([[5, 10, 21],\n",
    "                 [11, 23, 18],\n",
    "                 [22, 19, 35]])\n",
    "\n",
    "arr2 = np.array([[50, 10, 41],\n",
    "                 [61, 23, 28],\n",
    "                 [42, 11, 25]])\n",
    "\n",
    "arr3 = np.array([[96, 22, 26],\n",
    "                 [87, 56, 23],\n",
    "                 [90, 75, 32]])\n",
    "\n",
    "print(arr1[1:3, 0:3])\n",
    "\n",
    "mean_arr2 = np.mean(arr2)\n",
    "print(mean_arr2)\n",
    "arr1[:, 0] = mean_arr2\n",
    "print(\"Thay doi mean: \", arr1)\n",
    "\n",
    "print(\"tong value arr3: \", np.sum(arr3))\n",
    "\n",
    "arr3[-1, :] = -1\n",
    "print('\\n', arr3)\n",
    "\n",
    "new_arr = np.copy(arr2)\n",
    "print(\"chieu ma tran moi: \", np.ndim(new_arr))\n",
    "\n",
    "new_arr = np.ravel(new_arr)\n",
    "print(\"new arr sau khi dua ve vector:\\n\", new_arr)\n",
    "new_arr1 = np.append(new_arr, 45)\n",
    "print(\"new arr sau khi them cuoi: \", new_arr1)\n",
    "\n",
    "new_arr2 = np.insert(new_arr1, 0, 99)\n",
    "print(\"new arr sau khi them dau: \", new_arr2)\n",
    "\n",
    "\n",
    "matrix_3d = np.stack([arr1, arr2, arr3], axis=0)\n",
    "print(list_matrix)\n",
    "list_matrix = np.ndarray.tolist(matrix_3d)\n",
    "\n",
    "print('\\n',list_matrix)"
   ]
  },
  {
   "cell_type": "code",
   "execution_count": 113,
   "id": "0c7d5b0a",
   "metadata": {},
   "outputs": [
    {
     "name": "stdout",
     "output_type": "stream",
     "text": [
      "[15 32 10 32 29 48 21]\n",
      "7 1\n",
      "[15 32 10 32 29 48 21]\n",
      "[[15 32]\n",
      " [55 10]\n",
      " [32 29]\n",
      " [48 21]]\n",
      "print phan tu vi tri le: \n",
      " [15 55 29 21]\n"
     ]
    }
   ],
   "source": [
    "#cau12\n",
    "ds = [15, 32, 10, 32, 29, 48, 21]\n",
    "arr = np.asarray(ds)\n",
    "\n",
    "print(arr)\n",
    "\n",
    "print(np.size(arr), np.ndim(arr))\n",
    "\n",
    "#arr1 = arr.reshape(2,4)\n",
    "print(arr)\n",
    "\n",
    "arr1 = np.insert(arr, 2, 55)\n",
    "print(arr1.reshape(4,2))\n",
    "\n",
    "print(\"print phan tu vi tri le: \\n\",arr1[np.where(arr1 % 2 != 0)])"
   ]
  },
  {
   "cell_type": "code",
   "execution_count": 138,
   "id": "35074ca1",
   "metadata": {
    "scrolled": true
   },
   "outputs": [
    {
     "name": "stdout",
     "output_type": "stream",
     "text": [
      "[['1' 'Thanh' '20']\n",
      " ['2' 'Tam' '21']\n",
      " ['3' 'Binh' '22']\n",
      " ['4' 'Chinh' '23']\n",
      " ['5' 'Lan' '21']]\n",
      "\n",
      " [['Stt' 'HoTen' 'Tuoi']\n",
      " ['1' 'Thanh' '20']\n",
      " ['2' 'Tam' '21']\n",
      " ['3' 'Binh' '22']\n",
      " ['4' 'Chinh' '23']\n",
      " ['5' 'Lan' '21']]\n",
      "['20' '21' '22' '23' '21']\n",
      "21.4\n"
     ]
    }
   ],
   "source": [
    "#Cau13\n",
    "arr = np.loadtxt(\"C:/Users/huynh/Documents/jupyter Running/Data Analysis/Data/sinhvien.txt\", dtype='str')\n",
    "print(arr)\n",
    "\n",
    "new_row = np.array(['Stt', 'HoTen', 'Tuoi'])\n",
    "arr_new = np.vstack([new_row, arr])\n",
    "#arr_new = np.insert(arr, 0, new_row)\n",
    "\n",
    "print('\\n', arr_new)\n",
    "\n",
    "#bat buoc file ghi ra voi dinh dang string\n",
    "np.savetxt(\"C:/Users/huynh/Documents/jupyter Running/Data Analysis/Data/sinhviensave.txt\", arr_new, delimiter=' ', fmt='%s') \n",
    "\n",
    "arr_age = arr[0:5 , -1]\n",
    "\n",
    "print(arr_age)\n",
    "\n",
    "arr_age = np.mean(arr_age, dtype=float)\n",
    "print(arr_age)"
   ]
  }
 ],
 "metadata": {
  "kernelspec": {
   "display_name": "Python 3 (ipykernel)",
   "language": "python",
   "name": "python3"
  },
  "language_info": {
   "codemirror_mode": {
    "name": "ipython",
    "version": 3
   },
   "file_extension": ".py",
   "mimetype": "text/x-python",
   "name": "python",
   "nbconvert_exporter": "python",
   "pygments_lexer": "ipython3",
   "version": "3.11.7"
  }
 },
 "nbformat": 4,
 "nbformat_minor": 5
}
