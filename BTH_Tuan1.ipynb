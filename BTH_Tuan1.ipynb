{
 "cells": [
  {
   "cell_type": "code",
   "execution_count": 1,
   "id": "040d219d",
   "metadata": {},
   "outputs": [
    {
     "name": "stdout",
     "output_type": "stream",
     "text": [
      "hello world\n"
     ]
    }
   ],
   "source": [
    "print(\"hello world\")"
   ]
  },
  {
   "metadata": {},
   "cell_type": "markdown",
   "source": "",
   "id": "bfe3cfec141dc046"
  },
  {
   "cell_type": "code",
   "execution_count": 3,
   "id": "3d28cdef",
   "metadata": {},
   "outputs": [
    {
     "name": "stdout",
     "output_type": "stream",
     "text": [
      "Nhap so thu 1: 4\n",
      "Nhap so thu 2: 5\n",
      "Nhap so thu 3: 2\n",
      "Nhap so thu 4: -99\n",
      "Nhap so thu 5: 100\n",
      "Tong la: 12\n"
     ]
    }
   ],
   "source": [
    "#Cau 1\n",
    "sum = 0\n",
    "for i in range(5):\n",
    "    temp = int(input(f\"Nhap so thu {i + 1}: \"))\n",
    "    sum += temp\n",
    "print(\"Tong la:\", sum)"
   ]
  },
  {
   "cell_type": "code",
   "execution_count": 19,
   "id": "d517c913",
   "metadata": {},
   "outputs": [
    {
     "name": "stdout",
     "output_type": "stream",
     "text": [
      "Nhap n: 5\n",
      "('e' de ket thuc hoac Nhap so thu 1: 1\n",
      "('e' de ket thuc hoac Nhap so thu 2: 2\n",
      "('e' de ket thuc hoac Nhap so thu 3: 3\n",
      "('e' de ket thuc hoac Nhap so thu 4: 4\n",
      "('e' de ket thuc hoac Nhap so thu 5: 5\n",
      "Tong cac so n:  15\n"
     ]
    }
   ],
   "source": [
    "#Cau2\n",
    "sum = 0\n",
    "n = int(input(\"Nhap n: \"))\n",
    "for i in range(n):\n",
    "    \n",
    "    temp = (input(f\"('e' de ket thuc hoac Nhap so thu {i + 1}: \"))\n",
    "    if temp.lower() == 'e':\n",
    "        print(\"DUNG!\")\n",
    "        break\n",
    "        \n",
    "    sum += int(temp)\n",
    "\n",
    "\n",
    "print(\"Tong cac so n: \", sum)"
   ]
  },
  {
   "cell_type": "code",
   "execution_count": 39,
   "id": "8720910b",
   "metadata": {},
   "outputs": [
    {
     "name": "stdout",
     "output_type": "stream",
     "text": [
      "1 2 6 4\n",
      "['1', '2', '6', '4'] \n",
      " 12\n"
     ]
    }
   ],
   "source": [
    "#Cau3\n",
    "sumEven = 0\n",
    "inp = (input())\n",
    "inp = inp.split() #hàm split trả về list\n",
    "for num in inp:\n",
    "    if int(num) % 2 == 0:\n",
    "        sumEven += int(num)\n",
    "\n",
    "\n",
    "\n",
    "print(inp, \"\\n\", sumEven)"
   ]
  },
  {
   "cell_type": "code",
   "execution_count": 48,
   "id": "6f10297c",
   "metadata": {},
   "outputs": [
    {
     "name": "stdout",
     "output_type": "stream",
     "text": [
      "5\n",
      "15\n"
     ]
    }
   ],
   "source": [
    "#Cau4\n",
    "sum = 0\n",
    "n = int(input())\n",
    "for i in range(n + 1):\n",
    "    sum += i\n",
    "    \n",
    "print(sum)"
   ]
  },
  {
   "cell_type": "code",
   "execution_count": 49,
   "id": "e57211e5",
   "metadata": {},
   "outputs": [
    {
     "name": "stdout",
     "output_type": "stream",
     "text": [
      "3 9 -99\n",
      "9\n"
     ]
    }
   ],
   "source": [
    "#Cau 5\n",
    "inp = input()\n",
    "inp = inp.split()\n",
    "\n",
    "print(max(inp))"
   ]
  },
  {
   "cell_type": "code",
   "execution_count": 53,
   "id": "da5e9861",
   "metadata": {},
   "outputs": [
    {
     "name": "stdout",
     "output_type": "stream",
     "text": [
      "44\n"
     ]
    }
   ],
   "source": [
    "#Cau6\n",
    "sum = 0\n",
    "ds = [5, 2, 10, 32, 11, 48, 34]\n",
    "for index, num in enumerate(ds):\n",
    "    if(index % 2 == 0 and num % 2 == 0):\n",
    "       sum += num\n",
    "    \n",
    "print(sum)"
   ]
  },
  {
   "cell_type": "code",
   "execution_count": 54,
   "id": "6ae02a1a",
   "metadata": {},
   "outputs": [
    {
     "name": "stdout",
     "output_type": "stream",
     "text": [
      "[32, 10, 32, 48]\n"
     ]
    }
   ],
   "source": [
    "#Cau7\n",
    "ds = [15, 32, 10, 32, 29, 48, 15]\n",
    "\n",
    "for num in ds:\n",
    "    if num % 2 != 0:\n",
    "        ds.remove(num)\n",
    "        \n",
    "print(ds)"
   ]
  },
  {
   "cell_type": "code",
   "execution_count": 73,
   "id": "2c58c583",
   "metadata": {},
   "outputs": [
    {
     "name": "stdout",
     "output_type": "stream",
     "text": [
      "Quang Vu\n",
      "so lan xuat hien chu: q 0\n",
      "so lan xuat hien chu: u 2\n",
      "so lan xuat hien chu: a 1\n",
      "so lan xuat hien chu: n 1\n",
      "so lan xuat hien chu: g 1\n",
      "so lan xuat hien khoang trang:  1\n",
      "so lan xuat hien chu: v 0\n",
      "so lan xuat hien chu: u 2\n",
      "Tong so ky tu 8\n"
     ]
    }
   ],
   "source": [
    "#Cau8\n",
    "inp = list(input())\n",
    "sumChar = len(inp)\n",
    "\n",
    "for c in inp:\n",
    "    c = c.lower()\n",
    "    if c != \" \":\n",
    "        print(\"so lan xuat hien chu: \" + c, inp.count(c))\n",
    "    else:\n",
    "        print(\"so lan xuat hien khoang trang: \", inp.count(c))\n",
    "\n",
    "print(\"Tong so ky tu\", sumChar)"
   ]
  },
  {
   "cell_type": "code",
   "execution_count": 84,
   "id": "ddb4ecae",
   "metadata": {},
   "outputs": [
    {
     "name": "stdout",
     "output_type": "stream",
     "text": [
      "['trum', 'python', 'python', 'ez']\n",
      "2\n"
     ]
    }
   ],
   "source": [
    "#Cau9\n",
    "str = \"trum Python python ez\"\n",
    "str = str.lower()\n",
    "s = str.split()\n",
    "count = 0\n",
    "print(s)\n",
    "\n",
    "for i in s:\n",
    "    if(i == \"python\"):\n",
    "        count += 1\n",
    "        \n",
    "print(count)"
   ]
  },
  {
   "cell_type": "code",
   "execution_count": 106,
   "id": "cad8ccba",
   "metadata": {},
   "outputs": [
    {
     "name": "stdout",
     "output_type": "stream",
     "text": [
      "['trum', 'python', 'mining', 'data', 'with', 'python', 'so', 'ez']\n",
      "trum python mining data with python so ez\n",
      "trum python mining du lieu with python so ez\n"
     ]
    }
   ],
   "source": [
    "#Cau10\n",
    "str = \"trum Python mining data with python so ez\"\n",
    "str = str.lower()\n",
    "s = str.split()\n",
    "print(s)\n",
    "print(str)\n",
    "\n",
    "idx = s.index(\"data\")\n",
    "s.insert(idx, \"du lieu\")\n",
    "s.remove(\"data\")\n",
    "\n",
    "string = ' '.join(s)\n",
    "print(string)"
   ]
  },
  {
   "cell_type": "code",
   "execution_count": 110,
   "id": "440d660d",
   "metadata": {},
   "outputs": [
    {
     "name": "stdout",
     "output_type": "stream",
     "text": [
      "Phạm Thị Hoàng Mỹ\n"
     ]
    }
   ],
   "source": [
    "#Cau13\n",
    "\n",
    "Person1 = {\n",
    "    'STT' : '1',\n",
    "    'MSSV' : '1210',\n",
    "    'Họ và tên' : 'Phạm Thị Hoàng Mỹ',\n",
    "    'Năm sinh' : '2005',\n",
    "    'Giới tính' : \"Nữ\"\n",
    "}\n",
    "\n",
    "Person2 = {\n",
    "    'STT' : '2',\n",
    "    'MSSV' : '2012',\n",
    "    'Họ và tên' : 'Huỳnh Quang Vũ',\n",
    "    'Năm sinh' : '2005',\n",
    "    'Giới tính' : \"Nam\"\n",
    "}\n",
    "\n",
    "persons = [Person1, Person2]\n",
    "\n",
    "for p in persons:\n",
    "    if p['STT'] == '1':\n",
    "        print(p['Họ và tên'])\n",
    "\n",
    "#print(Person1, Person2)"
   ]
  },
  {
   "cell_type": "code",
   "execution_count": null,
   "id": "17a38c6b",
   "metadata": {},
   "outputs": [
    {
     "name": "stdout",
     "output_type": "stream",
     "text": [
      "Nhập số: 98992189\n",
      "Chín mươi tám triệu chín trăm chín mươi hai nghìn một trăm tám mươi chín\n"
     ]
    }
   ],
   "source": [
    "#Cau11\n",
    "def read_number(num):\n",
    "    units = [\"\", \"một\", \"hai\", \"ba\", \"bốn\", \"năm\", \"sáu\", \"bảy\", \"tám\", \"chín\"]\n",
    "\n",
    "    def read_three_digits(n):\n",
    "        hundred = n // 100\n",
    "        ten = (n % 100) // 10\n",
    "        unit = n % 10\n",
    "        result = \"\"\n",
    "\n",
    "        if hundred > 0:\n",
    "            result += units[hundred] + \" trăm\"\n",
    "        else:\n",
    "            result += \"\"\n",
    "\n",
    "        if ten == 0 and unit != 0 and hundred != 0:\n",
    "            result += \" linh\"\n",
    "        elif ten == 1:\n",
    "            result += \" mười\"\n",
    "        elif ten > 1:\n",
    "            result += \" \" + units[ten] + \" mươi\"\n",
    "            \n",
    "        if unit != 0:\n",
    "            if ten == 0 and hundred == 0:\n",
    "                result += units[unit]\n",
    "            elif unit == 1 and ten > 1:\n",
    "                result += \" mốt\"\n",
    "            elif unit == 4 and ten > 1:\n",
    "                result += \" tư\"\n",
    "            elif unit == 5 and ten >= 1:\n",
    "                result += \" lăm\"\n",
    "            else:\n",
    "                result += \" \" + units[unit]\n",
    "\n",
    "        return result.strip()\n",
    "\n",
    "    if num == 0:\n",
    "        return \"Không\"\n",
    "\n",
    "    parts = []\n",
    "    place_values = [\"\", \"nghìn\", \"triệu\", \"tỷ\"]\n",
    "    i = 0\n",
    "\n",
    "    while num > 0:\n",
    "        chunk = num % 1000\n",
    "        if chunk != 0:\n",
    "            chunk_text = read_three_digits(chunk)\n",
    "            if place_values[i]:\n",
    "                chunk_text += \" \" + place_values[i]\n",
    "            parts.insert(0, chunk_text)\n",
    "        num //= 1000\n",
    "        i += 1\n",
    "\n",
    "    result = \" \".join(parts)\n",
    "    return result.capitalize()\n",
    "\n",
    "\n",
    "# Chương trình chính\n",
    "n = int(input(\"Nhập số: \"))\n",
    "print(read_number(n))\n"
   ]
  },
  {
   "cell_type": "code",
   "execution_count": 3,
   "id": "ac071b33",
   "metadata": {},
   "outputs": [
    {
     "name": "stdout",
     "output_type": "stream",
     "text": [
      "{'thanh', 'tron'}\n"
     ]
    }
   ],
   "source": [
    "#Câu12\n",
    "s1 = \"toi la Thanh Tron\"\n",
    "s2 = \"tron vn, thanh tron 2020\"\n",
    "\n",
    "\n",
    "#set là kiểu dữ liệu giống list nhưng mỗi phần tử chỉ xuất hiện duy nhất 1 lần\n",
    "str1 = set(s1.lower().split())\n",
    "str2 = set(s2.lower().split())\n",
    "\n",
    "#phương thức set.intersection() trả về 1 set các phần tử vừa có trong str1 và str2\n",
    "similar_word = str1.intersection(str2)\n",
    "\n",
    "print(similar_word)"
   ]
  },
  {
   "cell_type": "code",
   "execution_count": 27,
   "id": "07f57ce7",
   "metadata": {},
   "outputs": [
    {
     "name": "stdout",
     "output_type": "stream",
     "text": [
      "Phân tích dữ liệu là một quá trình kiểm tra, làm sạch, chuyển đổi và mô\n",
      "hình hóa dữ liệu với mục tiêu khám phá thông tin hữu ích, thông báo kết\n",
      "luận và hỗ trợ ra quyết định. Phân tích dữ liệu có nhiều khía cạnh và cách\n",
      "tiếp cận, bao gồm các kỹ thuật đa dạng dưới nhiều tên khác nhau và được\n",
      "sử dụng trong các lĩnh vực kinh doanh, khoa học và khoa học xã hội khác\n",
      "nhau.\n",
      "\n",
      "so luong chu:  82\n",
      "so luong ky tu:  368\n",
      "so tu dữ liệu:  3\n",
      "\n",
      "Chuoi sau khi them: Khái niệm về phân tích dữ liệu ứng dụng trong doanh nghiệp Phân tích dữ liệu là một quá trình kiểm tra, làm sạch, chuyển đổi và mô\n",
      "hình hóa dữ liệu với mục tiêu khám phá thông tin hữu ích, thông báo kết\n",
      "luận và hỗ trợ ra quyết định. Phân tích dữ liệu có nhiều khía cạnh và cách\n",
      "tiếp cận, bao gồm các kỹ thuật đa dạng dưới nhiều tên khác nhau và được\n",
      "sử dụng trong các lĩnh vực kinh doanh, khoa học và khoa học xã hội khác\n",
      "nhau.\n",
      "\n",
      "Chuoi sau khi them: Phân tích dữ liệu là một quá trình kiểm tra, làm sạch, chuyển đổi và mô\n",
      "hình hóa dữ liệu với mục tiêu khám phá thông tin hữu ích, thông báo kết\n",
      "luận và hỗ trợ ra quyết định. Phân tích dữ liệu có nhiều khía cạnh và cách\n",
      "tiếp cận, bao gồm các kỹ thuật đa dạng dưới nhiều tên khác nhau và được\n",
      "sử dụng trong các lĩnh vực kinh doanh, khoa học và khoa học xã hội khác\n",
      "nhau.Phân tích dữ liệu đã mang lại nhiều lợi ích cho doanh nghiệp trong việc tìm ra các giá trị từ dữ liệu\n"
     ]
    }
   ],
   "source": [
    "#Cau14\n",
    "file = open('C:/Users/huynh/Documents/jupyter Running/Data Analysis/Data/vanban.txt', 'r', encoding = 'utf-8')\n",
    "content = file.read()\n",
    "file.close()\n",
    "print(content)\n",
    "\n",
    "list_content = content.split()\n",
    "word_count = len(list_content)\n",
    "print(\"\\nso luong chu: \", word_count)\n",
    "\n",
    "char_count = len(content)\n",
    "print(\"so luong ky tu: \", char_count)\n",
    "\n",
    "find_count = content.lower().count(\"dữ liệu\")\n",
    "print(\"so tu dữ liệu: \", find_count)\n",
    "\n",
    "str_concat = \"Khái niệm về phân tích dữ liệu ứng dụng trong doanh nghiệp \"\n",
    "first_content = str_concat + content\n",
    "#first_content = first_content.replace('\\n', ' ')\n",
    "print(\"\\nChuoi sau khi them:\", first_content)\n",
    "\n",
    "str_concat_tail = \"Phân tích dữ liệu đã mang lại nhiều lợi ích cho doanh nghiệp trong việc tìm ra các giá trị từ dữ liệu\"\n",
    "last_content = content + str_concat_tail\n",
    "#last_content = last_content.replace('\\n', ' ')\n",
    "print(\"\\nChuoi sau khi them:\", last_content)\n"
   ]
  }
 ],
 "metadata": {
  "kernelspec": {
   "display_name": "Python 3 (ipykernel)",
   "language": "python",
   "name": "python3"
  },
  "language_info": {
   "codemirror_mode": {
    "name": "ipython",
    "version": 3
   },
   "file_extension": ".py",
   "mimetype": "text/x-python",
   "name": "python",
   "nbconvert_exporter": "python",
   "pygments_lexer": "ipython3",
   "version": "3.11.7"
  }
 },
 "nbformat": 4,
 "nbformat_minor": 5
}
