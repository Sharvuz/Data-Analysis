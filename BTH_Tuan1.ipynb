{
 "cells": [
  {
   "cell_type": "code",
   "execution_count": 1,
   "id": "040d219d",
   "metadata": {},
   "outputs": [
    {
     "name": "stdout",
     "output_type": "stream",
     "text": [
      "hello world\n"
     ]
    }
   ],
   "source": [
    "print(\"hello world\")"
   ]
  },
  {
   "cell_type": "code",
   "execution_count": 3,
   "id": "3d28cdef",
   "metadata": {},
   "outputs": [
    {
     "name": "stdout",
     "output_type": "stream",
     "text": [
      "Nhap so thu 1: 4\n",
      "Nhap so thu 2: 5\n",
      "Nhap so thu 3: 2\n",
      "Nhap so thu 4: -99\n",
      "Nhap so thu 5: 100\n",
      "Tong la: 12\n"
     ]
    }
   ],
   "source": [
    "#Cau 1\n",
    "sum = 0\n",
    "for i in range(5):\n",
    "    temp = int(input(f\"Nhap so thu {i + 1}: \"))\n",
    "    sum += temp\n",
    "print(\"Tong la:\", sum)"
   ]
  },
  {
   "cell_type": "code",
   "execution_count": 19,
   "id": "d517c913",
   "metadata": {},
   "outputs": [
    {
     "name": "stdout",
     "output_type": "stream",
     "text": [
      "Nhap n: 5\n",
      "('e' de ket thuc hoac Nhap so thu 1: 1\n",
      "('e' de ket thuc hoac Nhap so thu 2: 2\n",
      "('e' de ket thuc hoac Nhap so thu 3: 3\n",
      "('e' de ket thuc hoac Nhap so thu 4: 4\n",
      "('e' de ket thuc hoac Nhap so thu 5: 5\n",
      "Tong cac so n:  15\n"
     ]
    }
   ],
   "source": [
    "#Cau2\n",
    "sum = 0\n",
    "n = int(input(\"Nhap n: \"))\n",
    "for i in range(n):\n",
    "    \n",
    "    temp = (input(f\"('e' de ket thuc hoac Nhap so thu {i + 1}: \"))\n",
    "    if temp.lower() == 'e':\n",
    "        print(\"DUNG!\")\n",
    "        break\n",
    "        \n",
    "    sum += int(temp)\n",
    "\n",
    "\n",
    "print(\"Tong cac so n: \", sum)"
   ]
  },
  {
   "cell_type": "code",
   "execution_count": 39,
   "id": "8720910b",
   "metadata": {},
   "outputs": [
    {
     "name": "stdout",
     "output_type": "stream",
     "text": [
      "1 2 6 4\n",
      "['1', '2', '6', '4'] \n",
      " 12\n"
     ]
    }
   ],
   "source": [
    "#Cau3\n",
    "sumEven = 0\n",
    "inp = (input())\n",
    "inp = inp.split() #hàm split trả về list\n",
    "for num in inp:\n",
    "    if int(num) % 2 == 0:\n",
    "        sumEven += int(num)\n",
    "\n",
    "\n",
    "\n",
    "print(inp, \"\\n\", sumEven)"
   ]
  },
  {
   "cell_type": "code",
   "execution_count": 48,
   "id": "6f10297c",
   "metadata": {},
   "outputs": [
    {
     "name": "stdout",
     "output_type": "stream",
     "text": [
      "5\n",
      "15\n"
     ]
    }
   ],
   "source": [
    "#Cau4\n",
    "sum = 0\n",
    "n = int(input())\n",
    "for i in range(n + 1):\n",
    "    sum += i\n",
    "    \n",
    "print(sum)"
   ]
  },
  {
   "cell_type": "code",
   "execution_count": 49,
   "id": "e57211e5",
   "metadata": {},
   "outputs": [
    {
     "name": "stdout",
     "output_type": "stream",
     "text": [
      "3 9 -99\n",
      "9\n"
     ]
    }
   ],
   "source": [
    "#Cau 5\n",
    "inp = input()\n",
    "inp = inp.split()\n",
    "\n",
    "print(max(inp))"
   ]
  },
  {
   "cell_type": "code",
   "execution_count": 53,
   "id": "da5e9861",
   "metadata": {},
   "outputs": [
    {
     "name": "stdout",
     "output_type": "stream",
     "text": [
      "44\n"
     ]
    }
   ],
   "source": [
    "#Cau6\n",
    "sum = 0\n",
    "ds = [5, 2, 10, 32, 11, 48, 34]\n",
    "for index, num in enumerate(ds):\n",
    "    if(index % 2 == 0 and num % 2 == 0):\n",
    "       sum += num\n",
    "    \n",
    "print(sum)"
   ]
  },
  {
   "cell_type": "code",
   "execution_count": 54,
   "id": "6ae02a1a",
   "metadata": {},
   "outputs": [
    {
     "name": "stdout",
     "output_type": "stream",
     "text": [
      "[32, 10, 32, 48]\n"
     ]
    }
   ],
   "source": [
    "#Cau7\n",
    "ds = [15, 32, 10, 32, 29, 48, 15]\n",
    "\n",
    "for num in ds:\n",
    "    if num % 2 != 0:\n",
    "        ds.remove(num)\n",
    "        \n",
    "print(ds)"
   ]
  },
  {
   "cell_type": "code",
   "execution_count": 73,
   "id": "2c58c583",
   "metadata": {},
   "outputs": [
    {
     "name": "stdout",
     "output_type": "stream",
     "text": [
      "Quang Vu\n",
      "so lan xuat hien chu: q 0\n",
      "so lan xuat hien chu: u 2\n",
      "so lan xuat hien chu: a 1\n",
      "so lan xuat hien chu: n 1\n",
      "so lan xuat hien chu: g 1\n",
      "so lan xuat hien khoang trang:  1\n",
      "so lan xuat hien chu: v 0\n",
      "so lan xuat hien chu: u 2\n",
      "Tong so ky tu 8\n"
     ]
    }
   ],
   "source": [
    "#Cau8\n",
    "inp = list(input())\n",
    "sumChar = len(inp)\n",
    "\n",
    "for c in inp:\n",
    "    c = c.lower()\n",
    "    if c != \" \":\n",
    "        print(\"so lan xuat hien chu: \" + c, inp.count(c))\n",
    "    else:\n",
    "        print(\"so lan xuat hien khoang trang: \", inp.count(c))\n",
    "\n",
    "print(\"Tong so ky tu\", sumChar)"
   ]
  },
  {
   "cell_type": "code",
   "execution_count": 84,
   "id": "ddb4ecae",
   "metadata": {},
   "outputs": [
    {
     "name": "stdout",
     "output_type": "stream",
     "text": [
      "['trum', 'python', 'python', 'ez']\n",
      "2\n"
     ]
    }
   ],
   "source": [
    "#Cau9\n",
    "str = \"trum Python python ez\"\n",
    "str = str.lower()\n",
    "s = str.split()\n",
    "count = 0\n",
    "print(s)\n",
    "\n",
    "for i in s:\n",
    "    if(i == \"python\"):\n",
    "        count += 1\n",
    "        \n",
    "print(count)"
   ]
  },
  {
   "cell_type": "code",
   "execution_count": 106,
   "id": "cad8ccba",
   "metadata": {},
   "outputs": [
    {
     "name": "stdout",
     "output_type": "stream",
     "text": [
      "['trum', 'python', 'mining', 'data', 'with', 'python', 'so', 'ez']\n",
      "trum python mining data with python so ez\n",
      "trum python mining du lieu with python so ez\n"
     ]
    }
   ],
   "source": [
    "#Cau10\n",
    "str = \"trum Python mining data with python so ez\"\n",
    "str = str.lower()\n",
    "s = str.split()\n",
    "print(s)\n",
    "print(str)\n",
    "\n",
    "idx = s.index(\"data\")\n",
    "s.insert(idx, \"du lieu\")\n",
    "s.remove(\"data\")\n",
    "\n",
    "string = ' '.join(s)\n",
    "print(string)"
   ]
  },
  {
   "cell_type": "code",
   "execution_count": 110,
   "id": "440d660d",
   "metadata": {},
   "outputs": [
    {
     "name": "stdout",
     "output_type": "stream",
     "text": [
      "Phạm Thị Hoàng Mỹ\n"
     ]
    }
   ],
   "source": [
    "#Cau12\n",
    "\n",
    "Person1 = {\n",
    "    'STT' : '1',\n",
    "    'MSSV' : '1210',\n",
    "    'Họ và tên' : 'Phạm Thị Hoàng Mỹ',\n",
    "    'Năm sinh' : '2005',\n",
    "    'Giới tính' : \"Nữ\"\n",
    "}\n",
    "\n",
    "Person2 = {\n",
    "    'STT' : '2',\n",
    "    'MSSV' : '2012',\n",
    "    'Họ và tên' : 'Huỳnh Quang Vũ',\n",
    "    'Năm sinh' : '2005',\n",
    "    'Giới tính' : \"Nam\"\n",
    "}\n",
    "\n",
    "persons = [Person1, Person2]\n",
    "\n",
    "for p in persons:\n",
    "    if p['STT'] == '1':\n",
    "        print(p['Họ và tên'])\n",
    "\n",
    "#print(Person1, Person2)"
   ]
  },
  {
   "cell_type": "code",
   "execution_count": null,
   "id": "17a38c6b",
   "metadata": {},
   "outputs": [],
   "source": []
  }
 ],
 "metadata": {
  "kernelspec": {
   "display_name": "Python 3 (ipykernel)",
   "language": "python",
   "name": "python3"
  },
  "language_info": {
   "codemirror_mode": {
    "name": "ipython",
    "version": 3
   },
   "file_extension": ".py",
   "mimetype": "text/x-python",
   "name": "python",
   "nbconvert_exporter": "python",
   "pygments_lexer": "ipython3",
   "version": "3.11.7"
  }
 },
 "nbformat": 4,
 "nbformat_minor": 5
}
